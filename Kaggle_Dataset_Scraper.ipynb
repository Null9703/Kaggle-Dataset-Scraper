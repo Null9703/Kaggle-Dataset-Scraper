{
 "cells": [
  {
   "cell_type": "markdown",
   "id": "5b40c94e-5620-4bd2-8bc0-f990ac241d3a",
   "metadata": {},
   "source": [
    "# Kaggle Dataset Scraper"
   ]
  },
  {
   "cell_type": "markdown",
   "id": "84486052-f2e3-4ff3-81d4-80f3cf93912a",
   "metadata": {},
   "source": [
    "The purpose of this project is to scrape the current hottest datasets on kaggle. Additional pre-processing is left upto user discretion.\n",
    "\n",
    "Note: The code will only download small datasets. You can modify the conditions to allow for the downloading of sets greater than 100 MB."
   ]
  },
  {
   "cell_type": "markdown",
   "id": "17abae81-8f74-4f17-868b-9abce589f700",
   "metadata": {},
   "source": [
    "## URL to web scrape"
   ]
  },
  {
   "cell_type": "code",
   "execution_count": 1,
   "id": "33310467-3f29-47ef-8b8e-8a3bbfd0204f",
   "metadata": {},
   "outputs": [],
   "source": [
    "url = \"https://www.kaggle.com/datasets?topic=trendingDataset&sort=hottest\""
   ]
  },
  {
   "cell_type": "markdown",
   "id": "8c2a7478-6570-4fb0-a3a3-6e957402e675",
   "metadata": {},
   "source": [
    "## Importing necessary modules"
   ]
  },
  {
   "cell_type": "code",
   "execution_count": 2,
   "id": "d174caf0-f245-48f5-9a43-6dad4a11f7e4",
   "metadata": {},
   "outputs": [],
   "source": [
    "import requests\n",
    "from bs4 import BeautifulSoup\n",
    "# other essential modules are mentioned wherever requried."
   ]
  },
  {
   "cell_type": "markdown",
   "id": "904e4a8e-4a6e-49f4-86b1-4edfb3314052",
   "metadata": {},
   "source": [
    "### Installing Kaggle API"
   ]
  },
  {
   "cell_type": "markdown",
   "id": "0f62fb3a-9083-47c5-8b8c-2b7ee32fa616",
   "metadata": {},
   "source": [
    "You can install the kaggle API by running the command \"pip install kaggle\" in your terminal."
   ]
  },
  {
   "cell_type": "markdown",
   "id": "0dc41e46-f106-444b-8e0a-82fa971acfea",
   "metadata": {},
   "source": [
    "### Preparing Kaggle API"
   ]
  },
  {
   "cell_type": "markdown",
   "id": "45be17fc-8fb5-4d24-93e3-1b48ce7a74e0",
   "metadata": {},
   "source": [
    "To get a Kaggle API token, go to the Accounts section of your profile and click on the \"create new token\" button. This will generate a json file and download it, containing your unique Kaggle token."
   ]
  },
  {
   "cell_type": "code",
   "execution_count": 3,
   "id": "127db197-00b9-466e-8a1f-83278c3d7b30",
   "metadata": {},
   "outputs": [],
   "source": [
    "import json\n",
    "import os\n",
    "\n",
    "# retrieve your token details from kaggle.json file\n",
    "with open('kaggle.json', 'r') as file:\n",
    "    kaggle_credentials = json.load(file)\n",
    "\n",
    "# preparing environment variables for API's usage\n",
    "os.environ['KAGGLE_USERNAME'] = kaggle_credentials[\"username\"]\n",
    "os.environ['KAGGLE_KEY'] = kaggle_credentials[\"key\"]"
   ]
  },
  {
   "cell_type": "code",
   "execution_count": 4,
   "id": "527173b8-cc61-4f2c-b036-4ee40b0df829",
   "metadata": {},
   "outputs": [],
   "source": [
    "from kaggle.api.kaggle_api_extended import KaggleApi\n",
    "\n",
    "# authenticating api\n",
    "api = KaggleApi()\n",
    "api.authenticate()"
   ]
  },
  {
   "cell_type": "markdown",
   "id": "ac9da67f-ac26-4407-8396-473c54a16bc9",
   "metadata": {},
   "source": [
    "## Using Selenium for Browser Simulation"
   ]
  },
  {
   "cell_type": "markdown",
   "id": "79b559b3-fdc9-4fa5-a12c-03a248fd2eb6",
   "metadata": {},
   "source": [
    "The actual page on kaggle for datasets is rendered elsewhere with Javascript and then displayed at the link users commonly use. Thus, we will be using Selenium to run browser."
   ]
  },
  {
   "cell_type": "markdown",
   "id": "79d64422-a0f9-461c-bb59-91405d07e395",
   "metadata": {},
   "source": [
    "### Listing what datasets we need"
   ]
  },
  {
   "cell_type": "code",
   "execution_count": 5,
   "id": "ee6fe099-9011-412a-a568-059a2f40420f",
   "metadata": {},
   "outputs": [],
   "source": [
    "from selenium import webdriver\n",
    "from selenium.webdriver.common.by import By\n",
    "from selenium.webdriver.support.ui import WebDriverWait\n",
    "from selenium.webdriver.support import expected_conditions as EC\n",
    "\n",
    "# Initialize Chrome WebDriver\n",
    "driver = webdriver.Chrome()\n",
    "\n",
    "# Load the Kaggle page\n",
    "driver.get(url)\n",
    "\n",
    "soup = BeautifulSoup(driver.page_source)\n",
    "\n",
    "\n",
    "# Close the browser window\n",
    "driver.quit()"
   ]
  },
  {
   "cell_type": "markdown",
   "id": "958eedf3-0115-43a3-8591-afe4de790e5a",
   "metadata": {},
   "source": [
    "## Collecting the datasets"
   ]
  },
  {
   "cell_type": "code",
   "execution_count": 6,
   "id": "a0d0e788-e5c3-4ddf-bbee-5ed51cd3ebad",
   "metadata": {},
   "outputs": [
    {
     "name": "stdout",
     "output_type": "stream",
     "text": [
      "Most Trending Kaggle Datasets:\n",
      "\n",
      "📊 Predict Liver Disease: 1700 Records Dataset\n",
      "\n",
      "rabieelkharoua/predict-liver-disease-1700-records-dataset\n",
      "\n",
      "Usability 10.0 · 1 File (CSV) · 71 kB\n",
      "\n",
      "------------------------------------------------------------------------------------------\n",
      "\n",
      "Iran Phone Ads\n",
      "\n",
      "arianghasemi/iran-phone-ads\n",
      "\n",
      "Usability 9.4 · 1 File (CSV) · 2 MB\n",
      "\n",
      "------------------------------------------------------------------------------------------\n",
      "\n",
      "Exploring E-commerce Trends⭐️⭐️⭐️\n",
      "\n",
      "muhammadroshaanriaz/e-commerce-trends-a-guide-to-leveraging-dataset\n",
      "\n",
      "Usability 10.0 · 1 File (CSV) · 22 kB\n",
      "\n",
      "------------------------------------------------------------------------------------------\n",
      "\n",
      "india economics data\n",
      "\n",
      "shreyaskeote23/india-economics-data\n",
      "\n",
      "Usability 10.0 · 10 Files (CSV) · 9 kB\n",
      "\n",
      "------------------------------------------------------------------------------------------\n",
      "\n",
      "India 2024 Election Dataset - All Candidates\n",
      "\n",
      "rubenmukherjee/india-2024-election-dataset-all-candidates\n",
      "\n",
      "Usability 7.6 · 3 Files (CSV, other) · 902 kB\n",
      "\n",
      "------------------------------------------------------------------------------------------\n",
      "\n",
      "Wine Quality Dataset\n",
      "\n",
      "shashankshekhar1205/wine-quality-dataset\n",
      "\n",
      "Usability 9.4 · 3 Files (CSV, other) · 99 kB\n",
      "\n",
      "------------------------------------------------------------------------------------------\n",
      "\n",
      "Tesla Stock Price Dataset 🚘🧑‍💻⚙️🔥\n",
      "\n",
      "mayankanand2701/tesla-stock-price-dataset\n",
      "\n",
      "Usability 10.0 · 1 File (CSV) · 73 kB\n",
      "\n",
      "------------------------------------------------------------------------------------------\n",
      "\n",
      "Predict Students' Dropout and Academic Success\n",
      "\n",
      "waleedejaz/predict-students-dropout-and-academic-success\n",
      "\n",
      "Usability 8.2 · 1 File (CSV) · 108 kB\n",
      "\n",
      "------------------------------------------------------------------------------------------\n",
      "\n",
      "Global Salary Analysis\n",
      "\n",
      "monisamir/global-salary-analysis\n",
      "\n",
      "Usability 9.4 · 4 Files (other) · 7 MB\n",
      "\n",
      "------------------------------------------------------------------------------------------\n",
      "\n",
      "Air Quality Monitoring in European Cities\n",
      "\n",
      "yekenot/air-quality-monitoring-in-european-cities\n",
      "\n",
      "Usability 9.4 · 3 Files (CSV) · 197 MB\n",
      "\n",
      "------------------------------------------------------------------------------------------\n",
      "\n",
      "UEFA EURO 2024 - Players\n",
      "\n",
      "damirdizdarevic/uefa-euro-2024-players\n",
      "\n",
      "Usability 8.8 · 1 File (CSV) · 15 kB\n",
      "\n",
      "------------------------------------------------------------------------------------------\n",
      "\n",
      "US Real Estate (Census Data)\n",
      "\n",
      "joshhaber/us-real-estate-incomepriceregion-census-data\n",
      "\n",
      "Usability 10.0 · 1 File (CSV) · 11 kB\n",
      "\n",
      "------------------------------------------------------------------------------------------\n",
      "\n",
      "USA Big City Crime Data\n",
      "\n",
      "middlehigh/los-angeles-crime-data-from-2000\n",
      "\n",
      "Usability 10.0 · 2 Files (CSV) · 527 MB\n",
      "\n",
      "------------------------------------------------------------------------------------------\n",
      "\n",
      "natural disasters increasing?\n",
      "\n",
      "willianoliveiragibin/natural-disasters-increasing\n",
      "\n",
      "Usability 10.0 · 1 File (CSV) · 5 kB\n",
      "\n",
      "------------------------------------------------------------------------------------------\n",
      "\n",
      "UBER RIDE PRICE PREDICTION\n",
      "\n",
      "kushsheth/uber-ride-price-prediction\n",
      "\n",
      "Usability 9.4 · 1 File (CSV) · 6 MB\n",
      "\n",
      "------------------------------------------------------------------------------------------\n",
      "\n",
      "🎥 2024 TMDB Latest Movie Data 🎬\n",
      "\n",
      "hafiznouman786/2024-tmdb-latest-movie-data\n",
      "\n",
      "Usability 9.4 · 1 File (CSV) · 1 MB\n",
      "\n",
      "------------------------------------------------------------------------------------------\n",
      "\n",
      "Global Life Expectancy at Birth\n",
      "\n",
      "programmerrdai/global-life-expectancy-at-birth\n",
      "\n",
      "Usability 7.6 · 2 Files (other) · 47 MB\n",
      "\n",
      "------------------------------------------------------------------------------------------\n",
      "\n",
      "Mental Health Dataset\n",
      "\n",
      "jiscecseaiml/mental-health-dataset\n",
      "\n",
      "Usability 8.1 · 1 File (JSON) · 87 kB\n",
      "\n",
      "------------------------------------------------------------------------------------------\n",
      "\n",
      "Fruit and Vegetable Disease (Healthy vs Rotten)\n",
      "\n",
      "muhammad0subhan/fruit-and-vegetable-disease-healthy-vs-rotten\n",
      "\n",
      "Usability 8.8 · 29291 Files (other) · 5 GB\n",
      "\n",
      "------------------------------------------------------------------------------------------\n",
      "\n",
      "The Most 50 Popular Crypto Data (Weekly Update)\n",
      "\n",
      "kaanxtr/btc-price-1m\n",
      "\n",
      "Usability 8.2 · 50 Files (CSV) · 4 GB\n",
      "\n",
      "------------------------------------------------------------------------------------------\n",
      "\n",
      "AI and ML Job Listings USA\n",
      "\n",
      "kanchana1990/ai-and-ml-job-listings-usa\n",
      "\n",
      "Usability 10.0 · 1 File (CSV) · 1 MB\n",
      "\n",
      "------------------------------------------------------------------------------------------\n",
      "\n",
      "European Soccer Data🏴󠁧󠁢󠁥󠁮󠁧󠁿🇪🇸🇩🇪🇮🇹🇫🇷\n",
      "\n",
      "audreyhengruizhang/european-soccer-data\n",
      "\n",
      "Usability 9.4 · 6 Files (CSV, other) · 236 kB\n",
      "\n",
      "------------------------------------------------------------------------------------------\n",
      "\n",
      "Indonesian Spices Dataset\n",
      "\n",
      "albertnathaniel12/indonesian-spices-dataset\n",
      "\n",
      "Usability 8.1 · 6510 Files (other) · 421 MB\n",
      "\n",
      "------------------------------------------------------------------------------------------\n",
      "\n",
      "NASDAQ, NYSE, NYSE A, OTC Stock Market (1962-2024)\n",
      "\n",
      "eren2222/nasdaq-nyse-nyse-a-otc-daily-stock-1962-2024\n",
      "\n",
      "Usability 10.0 · 4 Files (CSV) · 401 MB\n",
      "\n",
      "------------------------------------------------------------------------------------------\n",
      "\n"
     ]
    }
   ],
   "source": [
    "dataset_cards = soup.find_all('li', class_ = 'MuiListItem-root MuiListItem-gutters MuiListItem-divider sc-drMgrp dllDGS css-iicyhe')\n",
    "top_list = list()\n",
    "top_list_link = list()\n",
    "print(\"Most Trending Kaggle Datasets:\\n\")\n",
    "for i in dataset_cards:\n",
    "    x = ' '.join(i['aria-label'].split(' ')[0:-2])\n",
    "    y = i.a['href'][10:]\n",
    "    z = i.find_all('span', class_ = 'sc-fLseNd sc-crHHJw gArHzz bUdQDa')[-1].text\n",
    "    print(x)\n",
    "    print()\n",
    "    print(y)\n",
    "    print()\n",
    "    print(z)\n",
    "    print()\n",
    "    print('------------------------------------------------------------------------------------------')\n",
    "    print()\n",
    "    #\n",
    "    #CODE ONLY DOWNLOADS SMALL DATASETS. MODIFY THE CONDITION BELOW TO CHANGE THAT.\n",
    "    #\n",
    "    temp = z.split(' ')[-2:]\n",
    "    # temp = ['size', 'unit of size such as kB, MB, GB']\n",
    "    if temp[1] == 'kB' or (int(temp[0]) <= 100 and temp[1] == \"MB\"):\n",
    "        top_list.append(x)\n",
    "        top_list_link.append(y)"
   ]
  },
  {
   "cell_type": "markdown",
   "id": "25803ac5-7ed5-4b33-80b7-932908ef175e",
   "metadata": {},
   "source": [
    "## Downloading Datasets"
   ]
  },
  {
   "cell_type": "code",
   "execution_count": 7,
   "id": "2d44d5ee-8e90-411f-ac30-2950a9a1559e",
   "metadata": {},
   "outputs": [
    {
     "name": "stdout",
     "output_type": "stream",
     "text": [
      "Dataset URL: https://www.kaggle.com/datasets/rabieelkharoua/predict-liver-disease-1700-records-dataset\n",
      "Dataset URL: https://www.kaggle.com/datasets/arianghasemi/iran-phone-ads\n",
      "Dataset URL: https://www.kaggle.com/datasets/muhammadroshaanriaz/e-commerce-trends-a-guide-to-leveraging-dataset\n",
      "Dataset URL: https://www.kaggle.com/datasets/shreyaskeote23/india-economics-data\n",
      "Dataset URL: https://www.kaggle.com/datasets/rubenmukherjee/india-2024-election-dataset-all-candidates\n",
      "Dataset URL: https://www.kaggle.com/datasets/shashankshekhar1205/wine-quality-dataset\n",
      "Dataset URL: https://www.kaggle.com/datasets/mayankanand2701/tesla-stock-price-dataset\n",
      "Dataset URL: https://www.kaggle.com/datasets/waleedejaz/predict-students-dropout-and-academic-success\n",
      "Dataset URL: https://www.kaggle.com/datasets/monisamir/global-salary-analysis\n",
      "Dataset URL: https://www.kaggle.com/datasets/damirdizdarevic/uefa-euro-2024-players\n",
      "Dataset URL: https://www.kaggle.com/datasets/joshhaber/us-real-estate-incomepriceregion-census-data\n",
      "Dataset URL: https://www.kaggle.com/datasets/willianoliveiragibin/natural-disasters-increasing\n",
      "Dataset URL: https://www.kaggle.com/datasets/kushsheth/uber-ride-price-prediction\n",
      "Dataset URL: https://www.kaggle.com/datasets/hafiznouman786/2024-tmdb-latest-movie-data\n",
      "Dataset URL: https://www.kaggle.com/datasets/programmerrdai/global-life-expectancy-at-birth\n",
      "Dataset URL: https://www.kaggle.com/datasets/jiscecseaiml/mental-health-dataset\n",
      "Dataset URL: https://www.kaggle.com/datasets/kanchana1990/ai-and-ml-job-listings-usa\n",
      "Dataset URL: https://www.kaggle.com/datasets/audreyhengruizhang/european-soccer-data\n"
     ]
    }
   ],
   "source": [
    "# run below code to download all the data sets\n",
    "for i in top_list_link:\n",
    "    api.dataset_download_files(i, i.split('/')[1] + '.csv', unzip=True)"
   ]
  }
 ],
 "metadata": {
  "kernelspec": {
   "display_name": "Python 3 (ipykernel)",
   "language": "python",
   "name": "python3"
  },
  "language_info": {
   "codemirror_mode": {
    "name": "ipython",
    "version": 3
   },
   "file_extension": ".py",
   "mimetype": "text/x-python",
   "name": "python",
   "nbconvert_exporter": "python",
   "pygments_lexer": "ipython3",
   "version": "3.11.5"
  }
 },
 "nbformat": 4,
 "nbformat_minor": 5
}
